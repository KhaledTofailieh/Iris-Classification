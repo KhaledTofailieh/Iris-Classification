{
 "cells": [
  {
   "cell_type": "code",
   "execution_count": 1,
   "metadata": {},
   "outputs": [
    {
     "data": {
      "text/plain": [
       "['data',\n",
       " 'target',\n",
       " 'frame',\n",
       " 'target_names',\n",
       " 'DESCR',\n",
       " 'feature_names',\n",
       " 'filename']"
      ]
     },
     "execution_count": 1,
     "metadata": {},
     "output_type": "execute_result"
    }
   ],
   "source": [
    "from sklearn import datasets\n",
    "import numpy as np\n",
    "iris = datasets.load_iris()\n",
    "list(iris.keys())"
   ]
  },
  {
   "cell_type": "code",
   "execution_count": 6,
   "metadata": {},
   "outputs": [
    {
     "data": {
      "text/plain": [
       "150"
      ]
     },
     "execution_count": 6,
     "metadata": {},
     "output_type": "execute_result"
    }
   ],
   "source": [
    "len(iris.target)"
   ]
  },
  {
   "cell_type": "code",
   "execution_count": 3,
   "metadata": {},
   "outputs": [],
   "source": [
    "%matplotlib inline\n",
    "import matplotlib as mpl\n",
    "import matplotlib.pyplot as plt\n",
    "mpl.rc('axes', labelsize=14)\n",
    "mpl.rc('xtick', labelsize=12)\n",
    "mpl.rc('ytick', labelsize=12)"
   ]
  },
  {
   "cell_type": "code",
   "execution_count": 9,
   "metadata": {
    "scrolled": true
   },
   "outputs": [
    {
     "data": {
      "image/png": "[encoded data removed]",
      "text/plain": [
       "<Figure size 432x288 with 1 Axes>"
      ]
     },
     "metadata": {
      "needs_background": "light"
     },
     "output_type": "display_data"
    }
   ],
   "source": [
    "plt.plot(X[:,0],X[:,],\"b.\")\n",
    "plt.xlabel(\"$x_1$\", fontsize=18)\n",
    "plt.ylabel(\"$y $\", rotation=0, fontsize=18)\n",
    "# plt.axis([0, 1, 0, 1])\n",
    "plt.show()"
   ]
  },
  {
   "cell_type": "code",
   "execution_count": null,
   "metadata": {},
   "outputs": [],
   "source": [
    "# def train_test_split(X,y,test_ratio=0.2,val_ratio= 0.2,seed=45):\n",
    "#     total_size = len(X)\n",
    "#     test_size = int(total_size * test_ratio)\n",
    "#     train_size = total_size - test_size\n",
    "#     validation_size = int(train_size * val_ratio)\n",
    "    \n",
    "#     indeces = np.random.permutation(total_size)\n",
    "    \n",
    "#     X_train_ = X[indeces[:train_size]]\n",
    "#     y_train_ = y[indeces[:train_size]]\n",
    "    \n",
    "#     X_train  = X_train_[:-validation_size]\n",
    "#     y_train = y_train_[:-validation_size]\n",
    "    \n",
    "#     X_validation = X_train_[-validation_size:]\n",
    "#     y_validation = y_train_[-validation_size:]\n",
    "    \n",
    "    \n",
    "#     X_test = X[indeces[train_size:]]\n",
    "#     y_test = y[indeces[train_size:]]\n",
    "    \n",
    "#     return X_train,y_train,X_validation,y_validation,X_test,y_test"
   ]
  },
  {
   "cell_type": "code",
   "execution_count": 63,
   "metadata": {},
   "outputs": [],
   "source": [
    "\n",
    "def train_test_split(X,y,test_ratio, val_ratio):\n",
    "    total_size = len(X_with_bias)\n",
    "\n",
    "    test_size = int(total_size * test_ratio)\n",
    "    validation_size = int(total_size * val_ratio)\n",
    "    train_size = total_size - test_size - validation_size\n",
    "\n",
    "    rnd_indices = np.random.permutation(total_size)\n",
    "\n",
    "    X_train = X_with_bias[rnd_indices[:train_size]]\n",
    "    y_train = y[rnd_indices[:train_size]]\n",
    "    X_valid = X_with_bias[rnd_indices[train_size:-test_size]]\n",
    "    y_valid = y[rnd_indices[train_size:-test_size]]\n",
    "    X_test = X_with_bias[rnd_indices[-test_size:]]\n",
    "    y_test = y[rnd_indices[-test_size:]]\n",
    "    \n",
    "    return X_train,y_train,X_valid,y_valid,X_test,y_test\n",
    "\n",
    "\n",
    "def one_hot_encoder(y):\n",
    "    n_classes = len(np.unique(y))\n",
    "    m = len(y)\n",
    "    Y_one_hot = np.zeros((m, n_classes))\n",
    "    Y_one_hot[np.arange(m), y] = 1\n",
    "    return Y_one_hot\n",
    "\n",
    "def softmax(z):\n",
    "    exp_z = np.exp(z)\n",
    "    sum_exp = np.sum(exp_z,axis = 1,keepdims=True)\n",
    "#     print(\"sum\",sum_exp.shape)\n",
    "    return exp_z/sum_exp\n",
    "\n",
    "def add_bais(X):\n",
    "    return np.c_[np.ones((len(X),1)),X]"
   ]
  },
  {
   "cell_type": "code",
   "execution_count": null,
   "metadata": {},
   "outputs": [],
   "source": [
    "# indeces = np.random.permutation(150)\n",
    "# ind1 = np.array(indeces[:75])\n",
    "# ind2 = np.array(indeces[75:])\n",
    "# ind1 == ind2"
   ]
  },
  {
   "cell_type": "code",
   "execution_count": 198,
   "metadata": {},
   "outputs": [
    {
     "data": {
      "text/plain": [
       "((90, 3), (30, 3), (30, 3))"
      ]
     },
     "execution_count": 198,
     "metadata": {},
     "output_type": "execute_result"
    }
   ],
   "source": [
    "X = iris.data[:,(2,3)]\n",
    "X = add_bais(X)\n",
    "y = iris.target\n",
    "np.random.seed(2042)\n",
    "X_train,y_train,X_validation,y_validation,X_test,y_test = train_test_split(X,y,test_ratio=0.2,val_ratio=0.2)\n",
    "y_train_hot = one_hot_encoder(y_train)\n",
    "\n",
    "X_train.shape,X_validation.shape,X_test.shape"
   ]
  },
  {
   "cell_type": "code",
   "execution_count": 295,
   "metadata": {},
   "outputs": [
    {
     "data": {
      "text/plain": [
       "array([0, 0, 0, 0, 0, 0, 0, 0, 0, 0, 0, 0, 0, 0, 0, 0, 0, 0, 0, 0, 0, 0,\n",
       "       0, 0, 0, 0, 0, 0, 0, 0, 0, 0, 0, 0, 0, 0, 0, 0, 0, 0, 0, 0, 0, 0,\n",
       "       0, 0, 0, 0, 0, 0, 1, 1, 1, 1, 1, 1, 1, 1, 1, 1, 1, 1, 1, 1, 1, 1,\n",
       "       1, 1, 1, 1, 1, 1, 1, 1, 1, 1, 1, 1, 1, 1, 1, 1, 1, 1, 1, 1, 1, 1,\n",
       "       1, 1, 1, 1, 1, 1, 1, 1, 1, 1, 1, 1, 2, 2, 2, 2, 2, 2, 2, 2, 2, 2,\n",
       "       2, 2, 2, 2, 2, 2, 2, 2, 2, 2, 2, 2, 2, 2, 2, 2, 2, 2, 2, 2, 2, 2,\n",
       "       2, 2, 2, 2, 2, 2, 2, 2, 2, 2, 2, 2, 2, 2, 2, 2, 2, 2])"
      ]
     },
     "execution_count": 295,
     "metadata": {},
     "output_type": "execute_result"
    }
   ],
   "source": []
  },
  {
   "cell_type": "code",
   "execution_count": 218,
   "metadata": {},
   "outputs": [],
   "source": [
    "y_validation_hot = one_hot_encoder(y_validation)"
   ]
  },
  {
   "cell_type": "code",
   "execution_count": 292,
   "metadata": {},
   "outputs": [],
   "source": [
    "def fit(X_train, y_train,epoches,learning_rate=0.1,alpha=0 ,X_valid=None,y_valid = None,early_stopping=False):\n",
    "    best_loss = np.infty\n",
    "    epsilon= 1e-7 #tiny value for adding into {a}\n",
    "    inputs = X_train.shape[1] #features count\n",
    "    outputs = y_train.shape[1] #classes num\n",
    "    m = len(X_train)\n",
    "    theta = np.random.randn(inputs,outputs)\n",
    "    \n",
    "    for i in range(epoches):\n",
    "        \n",
    "        z = X_train.dot(theta)\n",
    "        a = softmax(z)\n",
    "\n",
    "        entropy_loss = -np.mean(np.sum(y_train * np.log(a + epsilon),axis =1))\n",
    "        l2_loss = 1/2 * np.sum(np.square(theta[1:]))\n",
    "        loss = entropy_loss + alpha * l2_loss\n",
    "        error = a - y_train \n",
    "        \n",
    "        gradients = 1/m * (X_train.T.dot(error)) + np.r_[np.zeros([1, outputs]), alpha * theta[1:]]\n",
    "        theta = theta - learning_rate * gradients\n",
    "        \n",
    "        if(i % int(epoches/10) == 0):\n",
    "            print(i,\" loss:\",loss)\n",
    "        if early_stopping:\n",
    "            if  X_valid is None or y_valid is None:\n",
    "                print(\"you must pass X,y Validations\")\n",
    "                break\n",
    "            else:\n",
    "                z_val = X_valid.dot(theta)\n",
    "                a_val = softmax(z_val)\n",
    "                entropy_loss_val = -np.mean(np.sum(y_valid * np.log(a_val + epsilon), axis=1))\n",
    "                l2_loss_val = 1/2 * np.sum(np.square(theta[1:]))\n",
    "                val_loss = entropy_loss_val + alpha * l2_loss_val\n",
    "                \n",
    "                if val_loss <= best_loss:\n",
    "                    best_loss = val_loss\n",
    "                else:\n",
    "                    print(i - 1, best_loss)\n",
    "                    print(i, val_loss, \"early stopping!\")\n",
    "                    break\n",
    "\n",
    "    return theta\n",
    "\n",
    "def predict(X,theta):\n",
    "    z = X.dot(theta)\n",
    "    a = softmax(z)\n",
    "    return np.argmax(a,axis = 1)\n",
    "    \n",
    "def score(y_predict,y):\n",
    "    return np.mean(y_predict == y)\n"
   ]
  },
  {
   "cell_type": "code",
   "execution_count": 288,
   "metadata": {},
   "outputs": [
    {
     "name": "stdout",
     "output_type": "stream",
     "text": [
      "0  loss: 1.5691830842587495\n",
      "500  loss: 0.37562542880725214\n",
      "1000  loss: 0.3002254588543948\n",
      "1500  loss: 0.25896904034255563\n",
      "2000  loss: 0.2313200750973268\n",
      "2500  loss: 0.21112429642172673\n",
      "3000  loss: 0.19560138554901457\n",
      "3500  loss: 0.18324246487373172\n",
      "4000  loss: 0.17313911811649224\n",
      "4500  loss: 0.16470596834755985\n",
      "5000  loss: 0.1575468162104543\n"
     ]
    }
   ],
   "source": [
    "theta = fit(X_train,y_train_hot,5001,0.1)"
   ]
  },
  {
   "cell_type": "code",
   "execution_count": 289,
   "metadata": {},
   "outputs": [
    {
     "name": "stdout",
     "output_type": "stream",
     "text": [
      "[0 1 0 2 0 1 2 2 0 2 1 0 0 1 0 1 0 2 0 1 2 1 1 0 1 1 2 2 1 1]\n",
      "[0 1 0 2 0 1 2 2 0 2 1 0 0 1 0 1 0 2 0 1 2 1 1 0 1 1 2 2 1 1]\n",
      "[2 2 2 1 1 1 0 0 0 2 0 1 2 0 1 1 2 2 2 0 2 1 0 2 0 0 1 0 2 1]\n",
      "[1 2 2 1 1 1 0 0 0 2 0 1 2 0 1 1 2 2 2 0 2 1 0 2 0 0 1 0 2 1]\n"
     ]
    },
    {
     "data": {
      "text/plain": [
       "0.9666666666666667"
      ]
     },
     "execution_count": 289,
     "metadata": {},
     "output_type": "execute_result"
    }
   ],
   "source": [
    "predict(X_valid,y_valid,theta)\n",
    "predict(X_test,y_test,theta)"
   ]
  },
  {
   "cell_type": "code",
   "execution_count": 286,
   "metadata": {},
   "outputs": [
    {
     "name": "stdout",
     "output_type": "stream",
     "text": [
      "0  loss: 7.179047798666225\n",
      "500  loss: 0.5265244930887678\n",
      "1000  loss: 0.5015819386364091\n",
      "1500  loss: 0.4939375014775161\n",
      "2000  loss: 0.4909932031395442\n",
      "2500  loss: 0.4897702883258264\n",
      "3000  loss: 0.4892427262303596\n",
      "3500  loss: 0.489010094448172\n",
      "4000  loss: 0.4889061214688285\n",
      "4500  loss: 0.48885925072271175\n",
      "5000  loss: 0.4888380031224939\n"
     ]
    }
   ],
   "source": [
    "theta1 = fit(X_train,y_train_hot,5001,0.1,alpha= 0.1)"
   ]
  },
  {
   "cell_type": "code",
   "execution_count": 287,
   "metadata": {},
   "outputs": [
    {
     "name": "stdout",
     "output_type": "stream",
     "text": [
      "[0 1 0 2 0 1 2 2 0 2 1 0 0 1 0 1 0 2 0 1 2 1 1 0 1 1 2 2 1 1]\n",
      "[0 1 0 2 0 1 2 2 0 2 1 0 0 1 0 1 0 2 0 1 2 1 1 0 1 1 2 2 1 1]\n",
      "[2 2 2 1 1 1 0 0 0 2 0 1 2 0 1 1 2 2 2 0 2 1 0 2 0 0 2 0 2 1]\n",
      "[1 2 2 1 1 1 0 0 0 2 0 1 2 0 1 1 2 2 2 0 2 1 0 2 0 0 1 0 2 1]\n"
     ]
    },
    {
     "data": {
      "text/plain": [
       "0.9333333333333333"
      ]
     },
     "execution_count": 287,
     "metadata": {},
     "output_type": "execute_result"
    }
   ],
   "source": [
    "predict(test(X_valid,y_valid,theta1))\n",
    "predict(test(X_test,y_test,theta1))"
   ]
  },
  {
   "cell_type": "code",
   "execution_count": 290,
   "metadata": {
    "scrolled": true
   },
   "outputs": [
    {
     "name": "stdout",
     "output_type": "stream",
     "text": [
      "0  loss: 1.655222794223521\n",
      "500  loss: 0.5267280187381854\n",
      "1000  loss: 0.5020009986961208\n",
      "1500  loss: 0.4941012446648669\n",
      "2000  loss: 0.4910598998282363\n",
      "2500  loss: 0.4897986876162438\n",
      "2643 0.5325458634090332\n",
      "2644 0.5325458635152238 early stopping!\n",
      "[0 1 0 2 0 1 2 2 0 2 1 0 0 1 0 1 0 2 0 1 2 1 1 0 1 1 2 2 1 1]\n",
      "[0 1 0 2 0 1 2 2 0 2 1 0 0 1 0 1 0 2 0 1 2 1 1 0 1 1 2 2 1 1]\n"
     ]
    },
    {
     "data": {
      "text/plain": [
       "1.0"
      ]
     },
     "execution_count": 290,
     "metadata": {},
     "output_type": "execute_result"
    }
   ],
   "source": [
    "theta2 = fit(X_train,y_train_hot,5001,0.1,alpha= 0.1,early_stopping=True,X_valid=X_validation,y_valid=y_validation_hot)\n",
    "predict(X_valid,y_valid,theta2)"
   ]
  },
  {
   "cell_type": "code",
   "execution_count": 291,
   "metadata": {},
   "outputs": [
    {
     "name": "stdout",
     "output_type": "stream",
     "text": [
      "[2 2 2 1 1 1 0 0 0 2 0 1 2 0 1 1 2 2 2 0 2 1 0 2 0 0 2 0 2 1]\n",
      "[1 2 2 1 1 1 0 0 0 2 0 1 2 0 1 1 2 2 2 0 2 1 0 2 0 0 1 0 2 1]\n"
     ]
    },
    {
     "data": {
      "text/plain": [
       "0.9333333333333333"
      ]
     },
     "execution_count": 291,
     "metadata": {},
     "output_type": "execute_result"
    }
   ],
   "source": [
    "# test(X_valid,y_valid,theta1)\n",
    "predict(X_test,y_test,theta1)"
   ]
  },
  {
   "cell_type": "code",
   "execution_count": 311,
   "metadata": {},
   "outputs": [
    {
     "data": {
      "image/png": "[encoded data removed]",
      "text/plain": [
       "<Figure size 720x288 with 1 Axes>"
      ]
     },
     "metadata": {
      "needs_background": "light"
     },
     "output_type": "display_data"
    }
   ],
   "source": [
    "x0, x1 = np.meshgrid(\n",
    "        np.linspace(0, 8, 500).reshape(-1, 1),\n",
    "        np.linspace(0, 3.5, 200).reshape(-1, 1),\n",
    "    )\n",
    "\n",
    "X_new = np.c_[x0.ravel(),x1.ravel()]\n",
    "X_new_bais = add_bais(X_new)\n",
    "z = X_new_bais.dot(theta)\n",
    "a = softmax(z)\n",
    "y_predict = predict(X_new_bais,theta)\n",
    "\n",
    "plt.figure(figsize=(10, 4))\n",
    "plt.plot(X[y==2, 1], X[y==2, 2], \"g^\", label=\"Iris virginica\")\n",
    "plt.plot(X[y==1, 1], X[y==1, 2], \"bs\", label=\"Iris versicolor\")\n",
    "plt.plot(X[y==0, 1], X[y==0, 2], \"ro\", label=\"Iris setosa\")\n",
    "\n",
    "zz1 = a[:, 1].reshape(x0.shape)\n",
    "zz = y_predict.reshape(x0.shape)\n",
    "from matplotlib.colors import ListedColormap\n",
    "custom_cmap = ListedColormap(['#fafab0','#9898ff','#a0faa0'])\n",
    "\n",
    "plt.contourf(x0, x1, zz, cmap=custom_cmap)\n",
    "contour = plt.contour(x0, x1, zz1, cmap=plt.cm.brg)\n",
    "plt.clabel(contour, inline=1, fontsize=12)\n",
    "plt.xlabel(\"Petal length\", fontsize=14)\n",
    "plt.ylabel(\"Petal width\", fontsize=14)\n",
    "plt.legend(loc=\"upper left\", fontsize=14)\n",
    "plt.axis([0, 7, 0, 3.5])\n",
    "plt.show()"
   ]
  },
  {
   "cell_type": "code",
   "execution_count": 252,
   "metadata": {},
   "outputs": [
    {
     "data": {
      "text/plain": [
       "(array([[0.        ],\n",
       "        [1.33333333],\n",
       "        [2.66666667],\n",
       "        [4.        ]]),)"
      ]
     },
     "execution_count": 252,
     "metadata": {},
     "output_type": "execute_result"
    }
   ],
   "source": [
    "np.linspace(0, 4, 4).reshape(-1, 1),"
   ]
  },
  {
   "cell_type": "code",
   "execution_count": 261,
   "metadata": {},
   "outputs": [
    {
     "data": {
      "text/plain": [
       "(8, 1)"
      ]
     },
     "execution_count": 261,
     "metadata": {},
     "output_type": "execute_result"
    }
   ],
   "source": [
    "l2 = np.linspace(100, 108, 8).reshape(-1, 1)\n",
    "l2.shape"
   ]
  },
  {
   "cell_type": "code",
   "execution_count": 6,
   "metadata": {},
   "outputs": [
    {
     "data": {
      "text/plain": [
       "array([[0.        , 2.66666667, 5.33333333, 8.        ],\n",
       "       [0.        , 2.66666667, 5.33333333, 8.        ],\n",
       "       [0.        , 2.66666667, 5.33333333, 8.        ],\n",
       "       [0.        , 2.66666667, 5.33333333, 8.        ],\n",
       "       [0.        , 2.66666667, 5.33333333, 8.        ],\n",
       "       [0.        , 2.66666667, 5.33333333, 8.        ],\n",
       "       [0.        , 2.66666667, 5.33333333, 8.        ],\n",
       "       [0.        , 2.66666667, 5.33333333, 8.        ]])"
      ]
     },
     "execution_count": 6,
     "metadata": {},
     "output_type": "execute_result"
    }
   ],
   "source": [
    "import numpy as np\n",
    "\n",
    "x0, x1 = np.meshgrid(\n",
    "        np.linspace(0, 8, 4).reshape(-1, 1),\n",
    "        np.linspace(0, 3.5, 8).reshape(-1, 1),\n",
    "    )"
   ]
  },
  {
   "cell_type": "code",
   "execution_count": 23,
   "metadata": {},
   "outputs": [
    {
     "data": {
      "text/plain": [
       "<re.Match object; span=(0, 4), match='14th'>"
      ]
     },
     "execution_count": 23,
     "metadata": {},
     "output_type": "execute_result"
    }
   ],
   "source": [
    "import re\n",
    "text = \"14th_century;Time;Isaac_Newton;Rainbow\"+\"14th_century;Renaissance;Science;Physics;Isaac_Newton;Color;Rainbow\"\n",
    "pattern = r'14th'\n",
    "re.match(pattern,text,flags=1)"
   ]
  },
  {
   "cell_type": "code",
   "execution_count": null,
   "metadata": {},
   "outputs": [],
   "source": []
  }
 ],
 "metadata": {
  "kernelspec": {
   "display_name": "Python 3",
   "language": "python",
   "name": "python3"
  },
  "language_info": {
   "codemirror_mode": {
    "name": "ipython",
    "version": 3
   },
   "file_extension": ".py",
   "mimetype": "text/x-python",
   "name": "python",
   "nbconvert_exporter": "python",
   "pygments_lexer": "ipython3",
   "version": "3.7.6"
  }
 },
 "nbformat": 4,
 "nbformat_minor": 4
}
